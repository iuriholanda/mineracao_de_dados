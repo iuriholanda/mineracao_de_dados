{
 "cells": [
  {
   "cell_type": "code",
   "execution_count": null,
   "id": "b073ce69",
   "metadata": {},
   "outputs": [],
   "source": [
    "import pandas as pd\n",
    "import numpy as np"
   ]
  },
  {
   "cell_type": "markdown",
   "id": "90296410",
   "metadata": {},
   "source": [
    "## item a) Leitura do Dataset: "
   ]
  },
  {
   "cell_type": "code",
   "execution_count": null,
   "id": "a505ee2d",
   "metadata": {},
   "outputs": [],
   "source": [
    "arquivo = pd.read_parquet('fakeTelegram3.parquet') # arquivo tratado\n",
    "arquivo"
   ]
  },
  {
   "cell_type": "markdown",
   "id": "37390c01",
   "metadata": {},
   "source": [
    "## item b) Removendo trava-zaps: "
   ]
  },
  {
   "cell_type": "code",
   "execution_count": null,
   "id": "fe72da8e",
   "metadata": {},
   "outputs": [],
   "source": [
    "#removendo trava-zap\n",
    "arquivo = arquivo[arquivo['trava_zap'] != 1]"
   ]
  },
  {
   "cell_type": "markdown",
   "id": "fbd193bf",
   "metadata": {},
   "source": [
    "## item c) Removendo linhas duplicadas: "
   ]
  },
  {
   "cell_type": "code",
   "execution_count": null,
   "id": "45a8508d",
   "metadata": {},
   "outputs": [],
   "source": [
    "arquivo = arquivo[arquivo.duplicated() == False]\n",
    "arquivo.shape"
   ]
  },
  {
   "cell_type": "markdown",
   "id": "90799c44",
   "metadata": {},
   "source": [
    "## item d) Removendo entradas com textos menores do que 5 palavras: "
   ]
  },
  {
   "cell_type": "code",
   "execution_count": null,
   "id": "96b4cad9",
   "metadata": {},
   "outputs": [],
   "source": [
    "#texto com menos de 5 palavra\n",
    "\n",
    "arquivo = arquivo[arquivo['text_content_anonymous'].str.split().str.len()>=5]\n",
    "arquivo.shape"
   ]
  },
  {
   "cell_type": "markdown",
   "id": "33f008a1",
   "metadata": {},
   "source": [
    "## item e) Visualizações"
   ]
  }
 ],
 "metadata": {
  "language_info": {
   "name": "python"
  }
 },
 "nbformat": 4,
 "nbformat_minor": 5
}
